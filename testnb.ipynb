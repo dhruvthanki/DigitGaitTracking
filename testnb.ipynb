{
 "cells": [
  {
   "cell_type": "code",
   "execution_count": 8,
   "metadata": {},
   "outputs": [],
   "source": [
    "import numpy as np\n",
    "import scipy.io as spio\n",
    "from math import comb\n",
    "import plotly.express as px\n",
    "import matplotlib.pyplot as plt\n",
    "# pip install -U kaleido\n",
    "import plotly.io as pio\n",
    "pio.renderers.default = \"notebook\""
   ]
  },
  {
   "cell_type": "code",
   "execution_count": 9,
   "metadata": {},
   "outputs": [],
   "source": [
    "gait = spio.loadmat('/home/dhruv/Documents/Digit-py/octave/Digit-data_421762.mat')\n",
    "# https://pyhogs.github.io/reading-mat-files.html\n",
    "# https://stackoverflow.com/questions/3229419/how-to-pretty-print-nested-dictionaries\n",
    "# from pprinit import pprint; pprint(gait)\n",
    "pos = gait['data']['pos'][0,0]\n",
    "vel = gait['data']['vel'][0,0]\n",
    "acc = gait['data']['acc'][0,0]\n",
    "phase = gait['data']['t'][0,0]\n",
    "rowsddd, ncp = phase.shape\n",
    "t_step = gait['data']['final_time'][0,0]\n",
    "actR = np.loadtxt(open(\"/home/dhruv/Documents/Digit-py/octave/Ralpha.csv\", \"rb\"), delimiter=\",\")\n",
    "alpha = gait['data']['a'][0,0]\n",
    "# a = [alpha(1:2,:); -alpha(3,:); alpha(4:6,:); alpha(11:12,:); -alpha(13,:); alpha(14:16,:); alpha(7,:); -alpha(8,:); alpha(9:10,:); alpha(17,:); -alpha(18,:); alpha(19:20,:)];\n",
    "alpha = np.block([ [ alpha[0,:]],\n",
    "                [ alpha[1,:]],\n",
    "                [-alpha[2,:]],\n",
    "                [ alpha[3,:]],\n",
    "                [ alpha[4,:]],\n",
    "                [ alpha[5,:]],\n",
    "                [ alpha[10,:]],\n",
    "                [ alpha[11,:]],\n",
    "                [-alpha[12,:]],\n",
    "                [ alpha[13,:]],\n",
    "                [ alpha[14,:]],\n",
    "                [ alpha[15,:]],\n",
    "                [ alpha[6,:]],\n",
    "                [-alpha[7,:]],\n",
    "                [ alpha[8,:]],\n",
    "                [ alpha[9,:]],\n",
    "                [ alpha[16,:]],\n",
    "                [-alpha[17,:]],\n",
    "                [ alpha[18,:]],\n",
    "                [ alpha[19,:]]\n",
    "                ])\n",
    "# Ralpha = actR@alpha\n",
    "# diff = aa - Ralpha\n",
    "# print(diff)"
   ]
  },
  {
   "cell_type": "code",
   "execution_count": 10,
   "metadata": {},
   "outputs": [],
   "source": [
    "def BezierEval(alpha, s, t_step):\n",
    "    rows, columns = alpha.shape\n",
    "    M = columns-1\n",
    "    q_des, dq_des, ddq_des = np.zeros(rows), np.zeros(rows), np.zeros(rows)\n",
    "    for i in range(rows):\n",
    "        for k in range(columns):\n",
    "            q_des[i] = q_des[i] + alpha[i][k] * comb(M, k) * np.power(s, k) * np.power(1-s, M-k)\n",
    "        for k in range(columns-1):\n",
    "            # https://pomax.github.io/bezierinfo/#derivatives\n",
    "            dq_des[i] = dq_des[i] + ((alpha[i][k+1] - alpha[i][k]) * 5 * comb(M-1, k) * np.power(s, k) * np.power(1-s, M-k-1))/t_step\n",
    "        for k in range(columns-2):\n",
    "            ddq_des[i] = ddq_des[i] + (((alpha[i][k+2] - alpha[i][k+1]) - (alpha[i][k+1] - alpha[i][k])) * 5 * 4 * comb(M-2, k) * np.power(s, k) * np.power(1-s, M-k-2))/(t_step**2)\n",
    "    return q_des, dq_des, ddq_des "
   ]
  },
  {
   "cell_type": "code",
   "execution_count": 11,
   "metadata": {},
   "outputs": [],
   "source": [
    "rows, columns = alpha.shape\n",
    "q_des, dq_des, ddq_des = np.zeros((rows,ncp)), np.zeros((rows,ncp)), np.zeros((rows,ncp))\n",
    "time = np.linspace(0, 1, ncp)\n",
    "for t in range(0, ncp):\n",
    "    q_des[:,t], dq_des[:,t], ddq_des[:,t] = BezierEval(alpha, time[t], t_step)"
   ]
  },
  {
   "cell_type": "code",
   "execution_count": 12,
   "metadata": {},
   "outputs": [
    {
     "name": "stderr",
     "output_type": "stream",
     "text": [
      "<ipython-input-12-0045ced11960>:5: UserWarning:\n",
      "\n",
      "Matplotlib is currently using module://ipykernel.pylab.backend_inline, which is a non-GUI backend, so cannot show the figure.\n",
      "\n"
     ]
    },
    {
     "data": {
      "text/plain": [
       "<matplotlib.legend.Legend at 0x7f9328806e80>"
      ]
     },
     "execution_count": 12,
     "metadata": {},
     "output_type": "execute_result"
    },
    {
     "data": {
      "image/png": "[encoded data removed]",
      "text/plain": [
       "<Figure size 432x288 with 1 Axes>"
      ]
     },
     "metadata": {
      "needs_background": "light"
     },
     "output_type": "display_data"
    }
   ],
   "source": [
    "fig, ax = plt.subplots()\n",
    "ax.plot(phase[0,:], q_des[3,:])\n",
    "ax.plot(phase[0,:], pos[9,:])\n",
    "# fig = px.line(x=phase[0,:], y=[vel[9,:],dq_des[3,:]], markers=[True, False], labels={'x':'Time', 'y':'Position'})\n",
    "fig.show()\n",
    "plt.legend(['Bezier', 'Digit'])"
   ]
  },
  {
   "cell_type": "code",
   "execution_count": 13,
   "metadata": {},
   "outputs": [
    {
     "name": "stderr",
     "output_type": "stream",
     "text": [
      "<ipython-input-13-9aa00862edd7>:5: UserWarning:\n",
      "\n",
      "Matplotlib is currently using module://ipykernel.pylab.backend_inline, which is a non-GUI backend, so cannot show the figure.\n",
      "\n"
     ]
    },
    {
     "data": {
      "text/plain": [
       "<matplotlib.legend.Legend at 0x7f9328781310>"
      ]
     },
     "execution_count": 13,
     "metadata": {},
     "output_type": "execute_result"
    },
    {
     "data": {
      "image/png": "[encoded data removed]",
      "text/plain": [
       "<Figure size 432x288 with 1 Axes>"
      ]
     },
     "metadata": {
      "needs_background": "light"
     },
     "output_type": "display_data"
    }
   ],
   "source": [
    "fig, ax = plt.subplots()\n",
    "ax.plot(phase[0,:], dq_des[3,:])\n",
    "ax.plot(phase[0,:], vel[9,:])\n",
    "# fig = px.line(x=phase[0,:], y=[vel[9,:],dq_des[3,:]], markers=[True, False], labels={'x':'Time', 'y':'Position'})\n",
    "fig.show()\n",
    "plt.legend(['Bezier', 'Digit'])"
   ]
  },
  {
   "cell_type": "code",
   "execution_count": 14,
   "metadata": {},
   "outputs": [
    {
     "name": "stderr",
     "output_type": "stream",
     "text": [
      "<ipython-input-14-d88d7c1a2dcd>:5: UserWarning:\n",
      "\n",
      "Matplotlib is currently using module://ipykernel.pylab.backend_inline, which is a non-GUI backend, so cannot show the figure.\n",
      "\n"
     ]
    },
    {
     "data": {
      "text/plain": [
       "<matplotlib.legend.Legend at 0x7f9328758b50>"
      ]
     },
     "execution_count": 14,
     "metadata": {},
     "output_type": "execute_result"
    },
    {
     "data": {
      "image/png": "[encoded data removed]",
      "text/plain": [
       "<Figure size 432x288 with 1 Axes>"
      ]
     },
     "metadata": {
      "needs_background": "light"
     },
     "output_type": "display_data"
    }
   ],
   "source": [
    "fig, ax = plt.subplots()\n",
    "ax.plot(phase[0,:], ddq_des[3,:])\n",
    "ax.plot(phase[0,:], acc[9,:])\n",
    "# fig = px.line(x=phase[0,:], y=[vel[9,:],dq_des[3,:]], markers=[True, False], labels={'x':'Time', 'y':'Position'})\n",
    "fig.show()\n",
    "plt.legend(['Bezier', 'Digit'])"
   ]
  },
  {
   "cell_type": "code",
   "execution_count": 15,
   "metadata": {},
   "outputs": [],
   "source": [
    "# fig.write_image(\"fig1.eps\")"
   ]
  },
  {
   "cell_type": "code",
   "execution_count": 16,
   "metadata": {},
   "outputs": [
    {
     "name": "stdout",
     "output_type": "stream",
     "text": [
      "[ 0.38060139 -0.09732928  0.50808404  0.03125875 -0.28071273  0.26292932\n",
      " -0.329031    0.06118999 -0.07466205  0.02112075 -0.14098178  0.14119567\n",
      "  0.02952875  1.29367689  0.07099161  0.11691481 -0.60645726 -1.79836005\n",
      "  0.805482    0.01257736]\n",
      "[ 0.38035901 -0.09736532  0.50827635  0.03135736 -0.28096547  0.26309824\n",
      " -0.32923214  0.0611751  -0.07482356  0.02112536 -0.14080796  0.14097505\n",
      "  0.02810599  1.29342114  0.07170872  0.11711351 -0.60756941 -1.79839703\n",
      "  0.80594509  0.01252024]\n"
     ]
    }
   ],
   "source": [
    "q_des1, dq_des, ddq_des = BezierEval(alpha, 0.000000, t_step)\n",
    "print(q_des1)\n",
    "\n",
    "q_des2, dq_des2, ddq_des2 = BezierEval(alpha, 0.000500, t_step)\n",
    "print(q_des2)"
   ]
  }
 ],
 "metadata": {
  "interpreter": {
   "hash": "2449f0db9ce51b43a877dba25a57803626ed2ea325737c42824a420a9d17eece"
  },
  "kernelspec": {
   "display_name": "Python 3.8.12 ('base')",
   "language": "python",
   "name": "python3"
  },
  "language_info": {
   "codemirror_mode": {
    "name": "ipython",
    "version": 3
   },
   "file_extension": ".py",
   "mimetype": "text/x-python",
   "name": "python",
   "nbconvert_exporter": "python",
   "pygments_lexer": "ipython3",
   "version": "3.10.12"
  },
  "orig_nbformat": 4
 },
 "nbformat": 4,
 "nbformat_minor": 2
}
